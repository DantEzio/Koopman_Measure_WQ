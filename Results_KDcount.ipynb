{
 "cells": [
  {
   "cell_type": "code",
   "execution_count": 1,
   "metadata": {},
   "outputs": [],
   "source": [
    "import matplotlib.pyplot as plt\n",
    "import numpy as np\n",
    "import pandas as pd\n",
    "import os"
   ]
  },
  {
   "cell_type": "code",
   "execution_count": 7,
   "metadata": {},
   "outputs": [
    {
     "name": "stdout",
     "output_type": "stream",
     "text": [
      "23032\n"
     ]
    }
   ],
   "source": [
    "data = np.load('./Step4_DNN-augdata/databygroup.npy',allow_pickle=True).tolist()\n",
    "#聚类筛选的数据，从step5-1中直接复制\n",
    "#selected_dataid = ['historydata', 'sub2', 'sub3', 'sub4', 'sub5', 'sub6', 'sub7', 'sub8', 'sub9', \n",
    "#                   'sub10', 'sub11', 'sub12', 'sub13', 'sub14', 'sub17', 'sub18', 'sub19', 'sub21', \n",
    "#                   'sub22', 'sub23', 'sub24', 'sub25', 'sub26', 'sub27', 'sub28', 'sub30', 'sub31', \n",
    "#                   'sub32', 'sub33', 'sub35', 'sub36', 'sub37', 'sub39', 'sub41', 'sub42', 'sub44', \n",
    "#                   'sub45', 'sub46', 'sub47', 'sub48', 'sub49', 'sub50', 'sub51', 'sub52', 'sub53', \n",
    "#                   'sub54', 'sub56', 'sub58', 'sub59', 'sub61', 'sub62', 'sub63', 'sub65', 'sub66', \n",
    "#                   'sub67', 'sub68', 'sub69', 'sub70', 'sub71', 'sub73', 'sub74']\n",
    "selected_dataid = ['historydata', 'sub3', 'sub4', 'sub5', 'sub8', 'sub9', 'sub11', 'sub12', 'sub14', \n",
    "                   'sub19', 'sub21', 'sub24', 'sub25', 'sub26', 'sub31', 'sub35', 'sub37', 'sub39', \n",
    "                   'sub41', 'sub42', 'sub44', 'sub46', 'sub47', 'sub49', 'sub51', 'sub52', 'sub53', \n",
    "                   'sub56', 'sub58', 'sub59', 'sub61', 'sub63', 'sub68', 'sub70', 'sub73', 'sub74']\n",
    "\n",
    "TrainData = {}\n",
    "for k in data.keys():\n",
    "    if k in selected_dataid:\n",
    "        TrainData[k]=data[k]\n",
    "        \n",
    "#Tdata=TrainData[TrainData.keys()]\n",
    "su = 0\n",
    "sizelog = []\n",
    "step=20\n",
    "xtrain,ytrain=[],[]\n",
    "for k in TrainData.keys():\n",
    "    tem = []\n",
    "    for i in range(TrainData[k].shape[0]-step-1):\n",
    "        tem.append(TrainData[k][i+1+step,[-5,-4,-3,-2,-1]].tolist())\n",
    "    sizelog.append(len(tem))\n",
    "    su+=len(tem)\n",
    "\n",
    "print(su)\n"
   ]
  },
  {
   "cell_type": "code",
   "execution_count": 9,
   "metadata": {},
   "outputs": [],
   "source": [
    "table = []\n",
    "\n",
    "cid = 1\n",
    "for k in selected_dataid:\n",
    "    tem = [cid,k,sizelog[cid-1]]\n",
    "    table.append(tem)\n",
    "    cid += 1\n",
    "\n",
    "pd.DataFrame(table).to_csv('Table_selectedDATAID.csv')"
   ]
  }
 ],
 "metadata": {
  "kernelspec": {
   "display_name": "torch",
   "language": "python",
   "name": "python3"
  },
  "language_info": {
   "codemirror_mode": {
    "name": "ipython",
    "version": 3
   },
   "file_extension": ".py",
   "mimetype": "text/x-python",
   "name": "python",
   "nbconvert_exporter": "python",
   "pygments_lexer": "ipython3",
   "version": "3.10.16"
  }
 },
 "nbformat": 4,
 "nbformat_minor": 2
}
