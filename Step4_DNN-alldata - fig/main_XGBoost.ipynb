{
 "cells": [
  {
   "cell_type": "code",
   "execution_count": null,
   "metadata": {},
   "outputs": [],
   "source": [
    "import xgboost as xgb\n",
    "import seaborn as sns\n",
    "import matplotlib.pyplot as plt\n",
    "import numpy as np\n",
    "import pandas as pd\n",
    "import os"
   ]
  },
  {
   "cell_type": "markdown",
   "metadata": {},
   "source": [
    "# Get data, 数据增强，在5-1中筛选了数据进行补充，其余作为测试数据"
   ]
  },
  {
   "cell_type": "code",
   "execution_count": null,
   "metadata": {},
   "outputs": [],
   "source": [
    "data = np.load('./databygroup.npy',allow_pickle=True).tolist()\n",
    "#聚类筛选的数据，从step5-1中直接复制\n",
    "TrainData,TestData={},{}\n",
    "for k in data.keys():\n",
    "    TrainData[k]=data[k]\n",
    "    TestData[k]=data[k]\n",
    "        \n",
    "#Tdata=TrainData[TrainData.keys()]\n",
    "step=20\n",
    "xtrain,ytrain=[],[]\n",
    "for k in TrainData.keys():\n",
    "    for i in range(int(0.8*TrainData[k].shape[0])-step-1):\n",
    "        xtrain.append(TrainData[k][i:i+step,:TrainData[k].shape[1]-5].reshape(1,-1).tolist())\n",
    "        ytrain.append(TrainData[k][i+1+step,[-5,-4,-3,-2,-1]].reshape(1,-1).tolist())\n",
    "\n",
    "xtrain = np.array(xtrain).squeeze()\n",
    "ytrain = np.array(ytrain).squeeze()\n",
    "print(xtrain.shape,ytrain.shape)"
   ]
  },
  {
   "cell_type": "code",
   "execution_count": null,
   "metadata": {},
   "outputs": [],
   "source": [
    "ind = np.random.randint(0,xtrain.shape[0],int(xtrain.shape[0]*0.7))\n",
    "print(ind.shape)\n",
    "np.save('./0.7alldata.npy',ind)"
   ]
  },
  {
   "cell_type": "markdown",
   "metadata": {},
   "source": [
    "# XGBoost"
   ]
  },
  {
   "cell_type": "code",
   "execution_count": null,
   "metadata": {},
   "outputs": [],
   "source": [
    "reg_mod = xgb.XGBRegressor(\n",
    "    n_estimators=1000,\n",
    "    learning_rate=0.08,\n",
    "    subsample=0.75,\n",
    "    colsample_bytree=1, \n",
    "    max_depth=7,\n",
    "    gamma=0,\n",
    ")\n",
    "\n",
    "mask = np.ones(xtrain.shape[0], dtype=bool)\n",
    "ind = np.load('./0.7alldata.npy').tolist()\n",
    "mask[ind] = False\n",
    "\n",
    "xt, yt = xtrain[ind], ytrain[ind]\n",
    "xv, yv = xtrain[mask], ytrain[mask]\n",
    "\n",
    "eval_set = [(xt, yt), (xv, yv)]\n",
    "reg_mod.fit(xt, yt, eval_set=eval_set, verbose=False)\n",
    "\n",
    "mse = reg_mod.evals_result()['validation_0']['rmse']\n",
    "vmse = reg_mod.evals_result()['validation_1']['rmse']\n",
    "\n",
    "np.save('./XGBoost_mse.npy',mse)\n",
    "np.save('./XGBoost_vmse.npy',vmse)"
   ]
  },
  {
   "cell_type": "code",
   "execution_count": null,
   "metadata": {},
   "outputs": [],
   "source": [
    "sns.set_style(\"white\")\n",
    "palette = sns.color_palette(\"Set2\", n_colors=2) \n",
    "\n",
    "plt.plot(reg_mod.evals_result()['validation_0']['rmse'], label='train', color=palette[0], linewidth=2)\n",
    "plt.plot(reg_mod.evals_result()['validation_1']['rmse'], label='test', color=palette[1], linewidth=2)\n",
    "plt.xlabel('Iteration')\n",
    "plt.ylabel('RMSE')\n",
    "plt.legend()\n",
    "plt.show()"
   ]
  }
 ],
 "metadata": {
  "kernelspec": {
   "display_name": "xgb",
   "language": "python",
   "name": "python3"
  },
  "language_info": {
   "codemirror_mode": {
    "name": "ipython",
    "version": 3
   },
   "file_extension": ".py",
   "mimetype": "text/x-python",
   "name": "python",
   "nbconvert_exporter": "python",
   "pygments_lexer": "ipython3",
   "version": "3.13.2"
  },
  "orig_nbformat": 4
 },
 "nbformat": 4,
 "nbformat_minor": 2
}
