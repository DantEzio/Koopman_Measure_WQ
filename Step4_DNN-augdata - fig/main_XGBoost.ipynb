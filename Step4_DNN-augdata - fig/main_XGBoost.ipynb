{
 "cells": [
  {
   "cell_type": "code",
   "execution_count": 1,
   "metadata": {},
   "outputs": [],
   "source": [
    "import xgboost as xgb\n",
    "import seaborn as sns\n",
    "import matplotlib.pyplot as plt\n",
    "import numpy as np\n",
    "import pandas as pd\n",
    "import os"
   ]
  },
  {
   "cell_type": "markdown",
   "metadata": {},
   "source": [
    "# Get data, 数据增强，在5-1中筛选了数据进行补充，其余作为测试数据"
   ]
  },
  {
   "cell_type": "code",
   "execution_count": 2,
   "metadata": {},
   "outputs": [
    {
     "name": "stdout",
     "output_type": "stream",
     "text": [
      "dict_keys(['historydata', 'sub3', 'sub4', 'sub5', 'sub8', 'sub9', 'sub11', 'sub12', 'sub14', 'sub19', 'sub21', 'sub24', 'sub25', 'sub26', 'sub31', 'sub35', 'sub37', 'sub39', 'sub41', 'sub42', 'sub44', 'sub46', 'sub47', 'sub49', 'sub51', 'sub52', 'sub53', 'sub56', 'sub58', 'sub59', 'sub61', 'sub63', 'sub68', 'sub70', 'sub73', 'sub74'])\n",
      "(23032, 300)\n"
     ]
    }
   ],
   "source": [
    "data = np.load('./databygroup.npy',allow_pickle=True).tolist()\n",
    "#聚类筛选的数据，从step5-1中直接复制\n",
    "#selected_dataid = ['historydata', 'sub2', 'sub3', 'sub4', 'sub5', 'sub6', 'sub7', 'sub8', 'sub9', \n",
    "#                   'sub10', 'sub11', 'sub12', 'sub13', 'sub14', 'sub17', 'sub18', 'sub19', 'sub21', \n",
    "#                   'sub22', 'sub23', 'sub24', 'sub25', 'sub26', 'sub27', 'sub28', 'sub30', 'sub31', \n",
    "#                   'sub32', 'sub33', 'sub35', 'sub36', 'sub37', 'sub39', 'sub41', 'sub42', 'sub44', \n",
    "#                   'sub45', 'sub46', 'sub47', 'sub48', 'sub49', 'sub50', 'sub51', 'sub52', 'sub53', \n",
    "#                   'sub54', 'sub56', 'sub58', 'sub59', 'sub61', 'sub62', 'sub63', 'sub65', 'sub66', \n",
    "#                   'sub67', 'sub68', 'sub69', 'sub70', 'sub71', 'sub73', 'sub74']\n",
    "selected_dataid = ['historydata', 'sub3', 'sub4', 'sub5', 'sub8', 'sub9', 'sub11', 'sub12', 'sub14', \n",
    "                   'sub19', 'sub21', 'sub24', 'sub25', 'sub26', 'sub31', 'sub35', 'sub37', 'sub39', \n",
    "                   'sub41', 'sub42', 'sub44', 'sub46', 'sub47', 'sub49', 'sub51', 'sub52', 'sub53', \n",
    "                   'sub56', 'sub58', 'sub59', 'sub61', 'sub63', 'sub68', 'sub70', 'sub73', 'sub74']\n",
    "\n",
    "# 因为all data采用前0.8，所以这个部分选数据sub57之后都不用选\n",
    "#selected_dataid = ['historydata', 'sub3', 'sub4', 'sub5', 'sub8', 'sub9', 'sub11', 'sub12', 'sub14', \n",
    "#                   'sub19', 'sub21', 'sub24', 'sub25', 'sub26', 'sub31', 'sub35', 'sub37', 'sub39', \n",
    "#                   'sub41', 'sub42', 'sub44', 'sub46', 'sub47', 'sub49', 'sub51', 'sub52', 'sub53', \n",
    "#                   'sub56', 'sub58']\n",
    "\n",
    "\n",
    "TrainData,TestData={},{}\n",
    "for k in data.keys():\n",
    "    #TrainData[k]=data[k]\n",
    "    TestData[k]=data[k]\n",
    "\n",
    "for k in data.keys():\n",
    "    if k in selected_dataid:\n",
    "        TrainData[k]=data[k]\n",
    "        \n",
    "#Tdata=TrainData[TrainData.keys()]\n",
    "step=20\n",
    "xtrain,ytrain=[],[]\n",
    "for k in TrainData.keys():\n",
    "    for i in range(TrainData[k].shape[0]-step-1):\n",
    "        xtrain.append(TrainData[k][i:i+step,:TrainData[k].shape[1]-5].reshape(-1,1).tolist())\n",
    "        ytrain.append(TrainData[k][i+1+step,[-5,-4,-3,-2,-1]].reshape(-1,1).tolist())\n",
    "    #xtrain.append(xtem)\n",
    "    #ytrain.append(ytem)\n",
    "xtrain = np.array(xtrain).squeeze()\n",
    "ytrain = np.array(ytrain).squeeze()\n",
    "\n",
    "print(TrainData.keys())\n",
    "print(xtrain.shape)"
   ]
  },
  {
   "cell_type": "code",
   "execution_count": null,
   "metadata": {},
   "outputs": [],
   "source": [
    "#ind = np.random.randint(0,xtrain.shape[0],int(xtrain.shape[0]*0.7))\n",
    "#print(ind.shape)\n",
    "#np.save('./0.7alldata.npy',ind)"
   ]
  },
  {
   "cell_type": "markdown",
   "metadata": {},
   "source": [
    "# XGBoost"
   ]
  },
  {
   "cell_type": "code",
   "execution_count": 3,
   "metadata": {},
   "outputs": [],
   "source": [
    "reg_mod = xgb.XGBRegressor(\n",
    "    n_estimators=1000,\n",
    "    learning_rate=0.08,\n",
    "    subsample=0.75,\n",
    "    colsample_bytree=1, \n",
    "    max_depth=7,\n",
    "    gamma=0,\n",
    ")\n",
    "\n",
    "mask = np.ones(xtrain.shape[0], dtype=bool)\n",
    "ind = np.load('./0.7alldata.npy').tolist()\n",
    "mask[ind] = False\n",
    "\n",
    "xt, yt = xtrain[ind], ytrain[ind]\n",
    "xv, yv = xtrain[mask], ytrain[mask]\n",
    "\n",
    "eval_set = [(xt, yt), (xv, yv)]\n",
    "reg_mod.fit(xt, yt, eval_set=eval_set, verbose=False)\n",
    "\n",
    "mse = reg_mod.evals_result()['validation_0']['rmse']\n",
    "vmse = reg_mod.evals_result()['validation_1']['rmse']\n",
    "\n",
    "np.save('./XGBoost_mse.npy',mse)\n",
    "np.save('./XGBoost_vmse.npy',vmse) "
   ]
  },
  {
   "cell_type": "code",
   "execution_count": 4,
   "metadata": {},
   "outputs": [
    {
     "data": {
      "image/png": "[encoded data removed]",
      "text/plain": [
       "<Figure size 640x480 with 1 Axes>"
      ]
     },
     "metadata": {},
     "output_type": "display_data"
    }
   ],
   "source": [
    "sns.set_style(\"white\")\n",
    "palette = sns.color_palette(\"Set2\", n_colors=2) \n",
    "\n",
    "plt.plot(reg_mod.evals_result()['validation_0']['rmse'], label='train', color=palette[0], linewidth=2)\n",
    "plt.plot(reg_mod.evals_result()['validation_1']['rmse'], label='test', color=palette[1], linewidth=2)\n",
    "plt.xlabel('Iteration')\n",
    "plt.ylabel('RMSE')\n",
    "plt.legend()\n",
    "plt.show()"
   ]
  }
 ],
 "metadata": {
  "kernelspec": {
   "display_name": "xgb",
   "language": "python",
   "name": "python3"
  },
  "language_info": {
   "codemirror_mode": {
    "name": "ipython",
    "version": 3
   },
   "file_extension": ".py",
   "mimetype": "text/x-python",
   "name": "python",
   "nbconvert_exporter": "python",
   "pygments_lexer": "ipython3",
   "version": "3.13.2"
  },
  "orig_nbformat": 4
 },
 "nbformat": 4,
 "nbformat_minor": 2
}
