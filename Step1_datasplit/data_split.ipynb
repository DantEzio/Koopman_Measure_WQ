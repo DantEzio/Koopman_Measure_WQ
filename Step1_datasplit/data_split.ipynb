{
 "cells": [
  {
   "cell_type": "code",
   "execution_count": 29,
   "metadata": {},
   "outputs": [],
   "source": [
    "import numpy as np\n",
    "import pandas as pd\n",
    "import os"
   ]
  },
  {
   "cell_type": "markdown",
   "metadata": {},
   "source": [
    "# 数据归一化与归一化参数"
   ]
  },
  {
   "cell_type": "code",
   "execution_count": 30,
   "metadata": {},
   "outputs": [],
   "source": [
    "files=os.listdir(path='./data')\n",
    "OD={}\n",
    "for f in files:\n",
    "    OD[f]=pd.read_csv('./data/'+f).values[:,1:]\n",
    "\n",
    "datamaxmin={}\n",
    "for f in files:\n",
    "    maxd,mind = np.max(OD[f],axis=0),np.min(OD[f],axis=0)\n",
    "    datamaxmin[f]={'max':maxd,'min':mind}\n",
    "np.save('./databygroup_maxmin.npy',datamaxmin)\n",
    "\n",
    "for f in files:\n",
    "    maxd,mind = np.max(OD[f],axis=0),np.min(OD[f],axis=0)\n",
    "    data=OD[f].copy()\n",
    "    for i in range(maxd.shape[0]):\n",
    "        data[:,i] = 2*(OD[f][:,i]-mind[i])/(maxd[i]-mind[i])-1\n",
    "    pd.DataFrame(data).to_csv('./ndata/'+f)\n",
    "    \n",
    "files=os.listdir(path='./ndata')\n",
    "OD={}\n",
    "for f in files:\n",
    "    OD[f]=pd.read_csv('./ndata/'+f)"
   ]
  },
  {
   "cell_type": "markdown",
   "metadata": {},
   "source": [
    "# 划分数据集，用于后续数据相似性分析"
   ]
  },
  {
   "cell_type": "code",
   "execution_count": 31,
   "metadata": {},
   "outputs": [],
   "source": [
    "# 划分数据\n",
    "# 按照时间、空间划分，但是全部合并到一个Dict内\n",
    "# 随机生成50对一大一小随机数，用于划分数据集\n",
    "size=15\n",
    "dataname_list=['traindata']\n",
    "s = []\n",
    "traintem = []\n",
    "DBG = {}\n",
    "for f in files:\n",
    "    #data = pd.read_csv('./data/'+f).values[:,:]\n",
    "    data = OD[f].values[:,:]\n",
    "    k0,kn=0,data.shape[0]-20-1\n",
    "    for it in range(size-1):\n",
    "        if it == 0:\n",
    "            r=[0,np.random.randint(k0+23,int((it+1)*kn/size))]\n",
    "            k0=int((it+1)*kn/size)\n",
    "        else:\n",
    "            r1=np.random.randint(k0,int((it+1)*kn/size))\n",
    "            r=[r1,np.random.randint(r1+23,r1+int((it+2)*kn/size))]\n",
    "            k0=int(it*kn/size)\n",
    "        s.append(r)\n",
    "        \n",
    "for i in range(len(s)):\n",
    "    DBG[f+str(i)]=data[s[i][0]:s[i][1]]\n",
    "    if data[s[i][0]:s[i][1]].shape[0] <= 20:\n",
    "        print(i)\n",
    "    \n",
    "traintem.append(data[s[0][0]:s[0][1]].tolist())"
   ]
  },
  {
   "cell_type": "code",
   "execution_count": 32,
   "metadata": {},
   "outputs": [
    {
     "name": "stdout",
     "output_type": "stream",
     "text": [
      "(88, 69)\n"
     ]
    }
   ],
   "source": [
    "traindata=[]\n",
    "for it in traintem:\n",
    "    for line in it:\n",
    "        traindata.append(line)\n",
    "traindata=np.array(traindata)\n",
    "print(traindata.shape)\n",
    "DBG['traindata']=np.array(traindata)"
   ]
  },
  {
   "cell_type": "code",
   "execution_count": 33,
   "metadata": {},
   "outputs": [],
   "source": [
    "np.save('./databygroup.npy',DBG) \n",
    "# 保存到各个文件夹\n",
    "os.chdir(os.path.pardir)\n",
    "np.save('./Step2_Koopman/databygroup.npy',DBG)\n",
    "np.save('./Step2_Koopman/databygroup_maxmin.npy',datamaxmin)  \n",
    "\n",
    "np.save('./Step3_DNN/databygroup.npy',DBG)\n",
    "np.save('./Step3_DNN/databygroup_maxmin.npy',datamaxmin)  \n",
    "\n",
    "np.save('./Step4_Compare/databygroup.npy',DBG)\n",
    "np.save('./Step4_Compare/databygroup_maxmin.npy',datamaxmin)\n",
    "\n",
    "os.chdir('/Users/tianwenchong/Desktop/Text12-Koopman-WQ/Step1_datasplit')"
   ]
  },
  {
   "attachments": {},
   "cell_type": "markdown",
   "metadata": {},
   "source": [
    "# Before"
   ]
  },
  {
   "attachments": {},
   "cell_type": "markdown",
   "metadata": {},
   "source": [
    "# 划分数据\n",
    "# 按照时间、空间划分，但是全部合并到一个Dict内\n",
    "# Before\n",
    "\n",
    "DBG = {}\n",
    "traintem=[]\n",
    "for f in files:\n",
    "    #data = pd.read_csv('./data/'+f).values[:,:]\n",
    "    data = OD[f].values[:,:]\n",
    "    k0,kn=0,data.shape[0]\n",
    "    r=[0]\n",
    "    for it in range(1,40):\n",
    "        r.append(np.random.randint(k0,int(it*kn/10)))\n",
    "        k0=r[-1]\n",
    "    for i in range(len(r)-1):\n",
    "        DBG[f+str(i)]=data[r[i]:r[i+1]]\n",
    "        if i==0:\n",
    "            traintem.append(data[r[i]:r[i+1]].tolist())\n",
    "\n",
    "\n",
    "traindata=[]\n",
    "for it in traintem:\n",
    "    for line in it:\n",
    "        traindata.append(line)\n",
    "traindata=np.array(traindata)\n",
    "print(traindata.shape)\n",
    "DBG['traindata']=np.array(traindata)\n",
    "\n",
    "# 保存到各个文件夹\n",
    "np.save('./databygroup.npy',DBG)  \n",
    "os.chdir(os.path.pardir)\n",
    "np.save('./Step2_Koopman/databygroup.npy',DBG)\n",
    "np.save('./Step2_Koopman/databygroup_maxmin.npy',datamaxmin)  \n",
    "\n",
    "np.save('./Step3_DNN/databygroup.npy',DBG)\n",
    "np.save('./Step3_DNN/databygroup_maxmin.npy',datamaxmin)  \n",
    "\n",
    "np.save('./Step4_Compare/databygroup.npy',DBG)\n",
    "np.save('./Step4_Compare/databygroup_maxmin.npy',datamaxmin)\n",
    "\n",
    "os.chdir('/Users/tianwenchong/Desktop/Text12-Koopman-WQ/Step1_datasplit')"
   ]
  }
 ],
 "metadata": {
  "kernelspec": {
   "display_name": "base",
   "language": "python",
   "name": "python3"
  },
  "language_info": {
   "codemirror_mode": {
    "name": "ipython",
    "version": 3
   },
   "file_extension": ".py",
   "mimetype": "text/x-python",
   "name": "python",
   "nbconvert_exporter": "python",
   "pygments_lexer": "ipython3",
   "version": "3.8.16"
  },
  "orig_nbformat": 4
 },
 "nbformat": 4,
 "nbformat_minor": 2
}
