{
 "cells": [
  {
   "cell_type": "code",
   "execution_count": 1,
   "metadata": {},
   "outputs": [],
   "source": [
    "import xgboost as xgb\n",
    "import seaborn as sns\n",
    "import matplotlib.pyplot as plt\n",
    "import numpy as np\n",
    "import pandas as pd\n",
    "import os"
   ]
  },
  {
   "cell_type": "markdown",
   "metadata": {},
   "source": [
    "# Get data, 数据增强，在5-1中筛选了数据进行补充，其余作为测试数据"
   ]
  },
  {
   "cell_type": "code",
   "execution_count": 3,
   "metadata": {},
   "outputs": [],
   "source": [
    "# 获取数据，看COD和总氮的范围\n",
    "data = np.load('./databygroup.npy',allow_pickle=True).tolist()\n",
    "\n",
    "TrainData,TestData={},{}\n",
    "for k in data.keys():\n",
    "    TrainData[k]=data[k]\n",
    "    TestData[k]=data[k]\n",
    "        \n",
    "#Tdata=TrainData[TrainData.keys()]\n",
    "step=20\n",
    "xtrain,ytrain=[],[]\n",
    "for k in TrainData.keys():\n",
    "    for i in range(int(0.8*TrainData[k].shape[0])-step-1):\n",
    "        xtrain.append(TrainData[k][i:i+step,:TrainData[k].shape[1]-5].tolist())\n",
    "        ytrain.append(TrainData[k][i+1+step,[-5,-4,-3,-2,-1]].tolist())\n",
    "\n",
    "xtrain = np.array(xtrain)\n",
    "ytrain = np.array(ytrain)"
   ]
  },
  {
   "cell_type": "code",
   "execution_count": 4,
   "metadata": {},
   "outputs": [
    {
     "name": "stdout",
     "output_type": "stream",
     "text": [
      "[ 0.98123475  0.58881659  0.19639842 -0.19601974 -0.58843791 -0.98085607] [ 1.          0.60231696  0.20463393 -0.19304911 -0.59073214 -0.98841518]\n"
     ]
    }
   ],
   "source": [
    "# data前4个feature分别为in NH4、TN、flow、COD、T，由此选TN and COD分类\n",
    "# 找最大最小值\n",
    "\n",
    "# 各分5份，构造选数据条件\n",
    "n = 5\n",
    "TNrange = np.linspace(np.max(xtrain[:,:,1]),np.min(xtrain[:,:,1]),n+1)\n",
    "CODrange = np.linspace(np.max(xtrain[:,:,3]),np.min(xtrain[:,:,3]),n+1)\n",
    "print(TNrange,CODrange)\n",
    "\n",
    "# 根据上述条件分数据，一共有25组数据\n",
    "# 因为数据为20个时间步一条，所以用20个时间步的平均值作为分类条件\n",
    "\n",
    "group_datax, group_datay = {}, {}\n",
    "\n",
    "for TNid in range(len(TNrange)-1):\n",
    "    for CODid in range(len(CODrange)-1):\n",
    "        group_datax['TN'+str(TNid)+'_COD'+str(CODid)] = []\n",
    "        group_datay['TN'+str(TNid)+'_COD'+str(CODid)] = []\n",
    "\n",
    "\n",
    "for i in range(xtrain.shape[0]):\n",
    "\n",
    "    meanTN, meanCOD = np.mean(xtrain[i,:,1]), np.mean(xtrain[i,:,3])\n",
    "    logTN, logCOD = 0, 0\n",
    "\n",
    "    # TN\n",
    "    if meanTN == TNrange[0]:\n",
    "        logTN = 0\n",
    "    else:\n",
    "        for k in range(len(TNrange)-1):\n",
    "            if meanTN < TNrange[k] and meanTN >= TNrange[k+1]:\n",
    "                logTN = k\n",
    "    \n",
    "    # COD\n",
    "    if meanCOD == CODrange[0]:\n",
    "        logCOD = 0\n",
    "    else:\n",
    "        for k in range(len(CODrange)-1):\n",
    "            if meanCOD < CODrange[k] and meanCOD >= CODrange[k+1]:\n",
    "                logCOD = k\n",
    "\n",
    "    group_datax['TN'+str(logTN)+'_COD'+str(logCOD)].append(xtrain[i,:,:].tolist())\n",
    "    group_datay['TN'+str(logTN)+'_COD'+str(logCOD)].append(ytrain[i,:].tolist())\n",
    "    \n",
    "# 删除没有数据的分组\n",
    "logk = []\n",
    "for k in group_datay.keys():\n",
    "    if len(group_datay[k]) == 0:\n",
    "        logk.append(k)\n",
    "\n",
    "for k in logk:\n",
    "    group_datax.pop(k)\n",
    "    group_datay.pop(k)"
   ]
  },
  {
   "cell_type": "code",
   "execution_count": 5,
   "metadata": {},
   "outputs": [
    {
     "name": "stdout",
     "output_type": "stream",
     "text": [
      "dict_keys(['historydata', 'sub1', 'sub2', 'sub3', 'sub4', 'sub5', 'sub6', 'sub7', 'sub8', 'sub9', 'sub10', 'sub11', 'sub12', 'sub13', 'sub14', 'sub15', 'sub16', 'sub17', 'sub18', 'sub19', 'sub20', 'sub21', 'sub22', 'sub23', 'sub24', 'sub25', 'sub26', 'sub27', 'sub28', 'sub29', 'sub30', 'sub31', 'sub32', 'sub33', 'sub34', 'sub35', 'sub36', 'sub37', 'sub38', 'sub39', 'sub40', 'sub41', 'sub42', 'sub43', 'sub44', 'sub45', 'sub46', 'sub47', 'sub48', 'sub49', 'sub50', 'sub51', 'sub52', 'sub53', 'sub54', 'sub55', 'sub56', 'sub57', 'sub58', 'sub59', 'sub60', 'sub61', 'sub62', 'sub63', 'sub64', 'sub65', 'sub66', 'sub67', 'sub68', 'sub69', 'sub70', 'sub71', 'sub72', 'sub73', 'sub74'])\n",
      "(23024, 300)\n"
     ]
    }
   ],
   "source": [
    "# 从上述每个分组中选出代表性数据\n",
    "# 在保证选出数据总数与Koopman方法一致的前提下，按照各个分类的比例选数据\n",
    "\n",
    "# K方法选出的数据总共有 23032 条\n",
    "\n",
    "# 确定每个分类的比例\n",
    "num = {}\n",
    "sumk = 0\n",
    "for k in group_datay.keys():\n",
    "    num[k] = len(group_datay[k])\n",
    "    sumk += len(group_datay[k])\n",
    "\n",
    "for k in group_datay.keys():\n",
    "    num[k] = int(23032*num[k]/sumk)\n",
    "\n",
    "xtrain, ytrain = [], []\n",
    "for k in group_datax.keys():\n",
    "\n",
    "    for i in range(num[k]):\n",
    "        xtrain.append(np.array(group_datax[k][i]).reshape(-1,1).tolist())\n",
    "        ytrain.append(np.array(group_datay[k][i]).reshape(-1,1).tolist())\n",
    "\n",
    "xtrain = np.array(xtrain).squeeze()\n",
    "ytrain = np.array(ytrain).squeeze()\n",
    "\n",
    "print(TrainData.keys())\n",
    "print(xtrain.shape)\n"
   ]
  },
  {
   "cell_type": "code",
   "execution_count": 11,
   "metadata": {},
   "outputs": [
    {
     "name": "stdout",
     "output_type": "stream",
     "text": [
      "(16103,)\n"
     ]
    }
   ],
   "source": [
    "ind = np.random.randint(0,xtrain.shape[0],int(xtrain.shape[0]*0.7))\n",
    "print(ind.shape)\n",
    "np.save('./0.7alldata.npy',ind)"
   ]
  },
  {
   "cell_type": "markdown",
   "metadata": {},
   "source": [
    "# XGBoost"
   ]
  },
  {
   "cell_type": "code",
   "execution_count": 6,
   "metadata": {},
   "outputs": [],
   "source": [
    "reg_mod = xgb.XGBRegressor(\n",
    "    n_estimators=1000,\n",
    "    learning_rate=0.08,\n",
    "    subsample=0.75,\n",
    "    colsample_bytree=1, \n",
    "    max_depth=7,\n",
    "    gamma=0,\n",
    ")\n",
    "\n",
    "mask = np.ones(xtrain.shape[0], dtype=bool)\n",
    "ind = np.load('./0.7alldata.npy').tolist()\n",
    "mask[ind] = False\n",
    "\n",
    "xt, yt = xtrain[ind], ytrain[ind]\n",
    "xv, yv = xtrain[mask], ytrain[mask]\n",
    "\n",
    "eval_set = [(xt, yt), (xv, yv)]\n",
    "reg_mod.fit(xt, yt, eval_set=eval_set, verbose=False)\n",
    "\n",
    "mse = reg_mod.evals_result()['validation_0']['rmse']\n",
    "vmse = reg_mod.evals_result()['validation_1']['rmse']\n",
    "\n",
    "np.save('./XGBoost_mse.npy',mse)\n",
    "np.save('./XGBoost_vmse.npy',vmse) "
   ]
  },
  {
   "cell_type": "code",
   "execution_count": 7,
   "metadata": {},
   "outputs": [
    {
     "data": {
      "image/png": "[encoded data removed]",
      "text/plain": [
       "<Figure size 640x480 with 1 Axes>"
      ]
     },
     "metadata": {},
     "output_type": "display_data"
    }
   ],
   "source": [
    "sns.set_style(\"white\")\n",
    "palette = sns.color_palette(\"Set2\", n_colors=2) \n",
    "\n",
    "plt.plot(reg_mod.evals_result()['validation_0']['rmse'], label='train', color=palette[0], linewidth=2)\n",
    "plt.plot(reg_mod.evals_result()['validation_1']['rmse'], label='test', color=palette[1], linewidth=2)\n",
    "plt.xlabel('Iteration')\n",
    "plt.ylabel('RMSE')\n",
    "plt.legend()\n",
    "plt.show()"
   ]
  }
 ],
 "metadata": {
  "kernelspec": {
   "display_name": "xgb",
   "language": "python",
   "name": "python3"
  },
  "language_info": {
   "codemirror_mode": {
    "name": "ipython",
    "version": 3
   },
   "file_extension": ".py",
   "mimetype": "text/x-python",
   "name": "python",
   "nbconvert_exporter": "python",
   "pygments_lexer": "ipython3",
   "version": "3.13.2"
  },
  "orig_nbformat": 4
 },
 "nbformat": 4,
 "nbformat_minor": 2
}
