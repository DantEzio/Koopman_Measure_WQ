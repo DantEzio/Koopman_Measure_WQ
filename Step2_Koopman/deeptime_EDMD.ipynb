{
 "cells": [
  {
   "cell_type": "markdown",
   "metadata": {},
   "source": [
    "# Use Deeptime to establish EDMD"
   ]
  },
  {
   "cell_type": "code",
   "execution_count": 1,
   "metadata": {},
   "outputs": [],
   "source": [
    "import numpy as np\n",
    "import matplotlib.pyplot as plt\n",
    "import pandas as pd\n",
    "import os\n",
    "\n",
    "from deeptime.basis import Monomials\n",
    "from deeptime.decomposition import EDMD"
   ]
  },
  {
   "cell_type": "code",
   "execution_count": 2,
   "metadata": {},
   "outputs": [
    {
     "name": "stdout",
     "output_type": "stream",
     "text": [
      "19\n"
     ]
    }
   ],
   "source": [
    "data = np.load('./databygroup.npy',allow_pickle=True).tolist()\n",
    "TrainData,TestData={},{}\n",
    "for k in data.keys():\n",
    "    if ('historydata' in k):\n",
    "        TrainData[k]=data[k]\n",
    "    else:\n",
    "        TestData[k]=data[k]\n",
    "\n",
    "m = TestData[k][0,0:TestData[k].shape[1]-5].shape[0]\n",
    "print(m)"
   ]
  },
  {
   "cell_type": "code",
   "execution_count": 3,
   "metadata": {},
   "outputs": [],
   "source": [
    "for k in TestData.keys():\n",
    "    if os.path.exists('./DLEDMD_model/'+k):\n",
    "        pass\n",
    "    else:\n",
    "        os.makedirs('./DLEDMD_model/'+k)\n",
    "\n",
    "if os.path.exists('./DLEDMD_model/traindata'):\n",
    "    pass\n",
    "else:\n",
    "    os.makedirs('./DLEDMD_model/traindata')\n",
    "\n",
    "for d in TestData.keys():\n",
    "    if not os.path.exists('./results/'+d):\n",
    "        #if '.csv0' not in d:\n",
    "        os.makedirs('./results/'+d)\n",
    "    \n",
    "    os.chdir(os.path.pardir)\n",
    "    if not os.path.exists('./Step3_dataselect/results_s/'+d):\n",
    "        #if '.csv0' not in d:\n",
    "        os.makedirs('./Step3_dataselect/results_s/'+d)\n",
    "    os.chdir('./Step2_Koopman')\n",
    "        \n",
    "   \n",
    "if not os.path.exists('./results/traindata'):\n",
    "    os.makedirs('./results/traindata')\n",
    "os.chdir(os.path.pardir)\n",
    "if not os.path.exists('./Step3_dataselect/results_s/traindata'):\n",
    "    os.makedirs('./Step3_dataselect/results_s/traindata')\n",
    "os.chdir('./Step2_Koopman')"
   ]
  },
  {
   "cell_type": "code",
   "execution_count": 4,
   "metadata": {},
   "outputs": [],
   "source": [
    "basis = Monomials(p = 10, d = m)"
   ]
  },
  {
   "cell_type": "code",
   "execution_count": 5,
   "metadata": {},
   "outputs": [
    {
     "name": "stdout",
     "output_type": "stream",
     "text": [
      "(10, 19) (10, 19)\n"
     ]
    }
   ],
   "source": [
    "xtrain = TestData[k][0:10,0:TestData[k].shape[1]-5]\n",
    "#ytrain = TestData[k][1:11,[-5,-4,-3,-2,-1]]\n",
    "ytrain = TestData[k][1:11,0:TestData[k].shape[1]-5]\n",
    "print(xtrain.shape,ytrain.shape)"
   ]
  },
  {
   "cell_type": "code",
   "execution_count": 6,
   "metadata": {},
   "outputs": [
    {
     "data": {
      "text/plain": [
       "19"
      ]
     },
     "execution_count": 6,
     "metadata": {},
     "output_type": "execute_result"
    }
   ],
   "source": [
    "m"
   ]
  },
  {
   "cell_type": "code",
   "execution_count": 8,
   "metadata": {},
   "outputs": [
    {
     "ename": "MemoryError",
     "evalue": "Unable to allocate 2.85 PiB for an array with shape (20030010, 20030010) and data type float64",
     "output_type": "error",
     "traceback": [
      "\u001b[0;31m---------------------------------------------------------------------------\u001b[0m",
      "\u001b[0;31mMemoryError\u001b[0m                               Traceback (most recent call last)",
      "\u001b[0;32m/tmp/ipykernel_47594/2962578953.py\u001b[0m in \u001b[0;36m<cell line: 2>\u001b[0;34m()\u001b[0m\n\u001b[1;32m      1\u001b[0m \u001b[0medmd_estimator\u001b[0m \u001b[0;34m=\u001b[0m \u001b[0mEDMD\u001b[0m\u001b[0;34m(\u001b[0m\u001b[0mbasis\u001b[0m\u001b[0;34m,\u001b[0m \u001b[0mn_eigs\u001b[0m\u001b[0;34m=\u001b[0m\u001b[0;36m2\u001b[0m\u001b[0;34m)\u001b[0m\u001b[0;34m\u001b[0m\u001b[0;34m\u001b[0m\u001b[0m\n\u001b[0;32m----> 2\u001b[0;31m \u001b[0medmd_model\u001b[0m \u001b[0;34m=\u001b[0m \u001b[0medmd_estimator\u001b[0m\u001b[0;34m.\u001b[0m\u001b[0mfit\u001b[0m\u001b[0;34m(\u001b[0m\u001b[0;34m(\u001b[0m\u001b[0mxtrain\u001b[0m\u001b[0;34m,\u001b[0m \u001b[0mytrain\u001b[0m\u001b[0;34m)\u001b[0m\u001b[0;34m)\u001b[0m\u001b[0;34m.\u001b[0m\u001b[0mfetch_model\u001b[0m\u001b[0;34m(\u001b[0m\u001b[0;34m)\u001b[0m\u001b[0;34m\u001b[0m\u001b[0;34m\u001b[0m\u001b[0m\n\u001b[0m",
      "\u001b[0;32m~/miniconda3/envs/KWQ/lib/python3.8/site-packages/deeptime/base.py\u001b[0m in \u001b[0;36m__call__\u001b[0;34m(self, *args, **kwargs)\u001b[0m\n\u001b[1;32m    415\u001b[0m         \u001b[0;31m# here we invoke the immutable setting context manager.\u001b[0m\u001b[0;34m\u001b[0m\u001b[0;34m\u001b[0m\u001b[0;34m\u001b[0m\u001b[0m\n\u001b[1;32m    416\u001b[0m         \u001b[0;32mwith\u001b[0m \u001b[0mself\u001b[0m\u001b[0;34m:\u001b[0m\u001b[0;34m\u001b[0m\u001b[0;34m\u001b[0m\u001b[0m\n\u001b[0;32m--> 417\u001b[0;31m             \u001b[0;32mreturn\u001b[0m \u001b[0mself\u001b[0m\u001b[0;34m.\u001b[0m\u001b[0mfit_method\u001b[0m\u001b[0;34m(\u001b[0m\u001b[0;34m*\u001b[0m\u001b[0margs\u001b[0m\u001b[0;34m,\u001b[0m \u001b[0;34m**\u001b[0m\u001b[0mkwargs\u001b[0m\u001b[0;34m)\u001b[0m\u001b[0;34m\u001b[0m\u001b[0;34m\u001b[0m\u001b[0m\n\u001b[0m\u001b[1;32m    418\u001b[0m \u001b[0;34m\u001b[0m\u001b[0m\n\u001b[1;32m    419\u001b[0m \u001b[0;34m\u001b[0m\u001b[0m\n",
      "\u001b[0;32m~/miniconda3/envs/KWQ/lib/python3.8/site-packages/deeptime/decomposition/_dmd.py\u001b[0m in \u001b[0;36mfit\u001b[0;34m(self, data, **kwargs)\u001b[0m\n\u001b[1;32m    320\u001b[0m         \u001b[0mpsi_y\u001b[0m \u001b[0;34m=\u001b[0m \u001b[0mself\u001b[0m\u001b[0;34m.\u001b[0m\u001b[0mbasis\u001b[0m\u001b[0;34m(\u001b[0m\u001b[0my\u001b[0m\u001b[0;34m)\u001b[0m\u001b[0;34m.\u001b[0m\u001b[0mT\u001b[0m\u001b[0;34m\u001b[0m\u001b[0;34m\u001b[0m\u001b[0m\n\u001b[1;32m    321\u001b[0m \u001b[0;34m\u001b[0m\u001b[0m\n\u001b[0;32m--> 322\u001b[0;31m         \u001b[0mcov_00\u001b[0m \u001b[0;34m=\u001b[0m \u001b[0;34m(\u001b[0m\u001b[0;36m1\u001b[0m\u001b[0;34m/\u001b[0m\u001b[0mx\u001b[0m\u001b[0;34m.\u001b[0m\u001b[0mshape\u001b[0m\u001b[0;34m[\u001b[0m\u001b[0;36m0\u001b[0m\u001b[0;34m]\u001b[0m\u001b[0;34m)\u001b[0m \u001b[0;34m*\u001b[0m \u001b[0mpsi_x\u001b[0m \u001b[0;34m@\u001b[0m \u001b[0mpsi_x\u001b[0m\u001b[0;34m.\u001b[0m\u001b[0mT\u001b[0m\u001b[0;34m\u001b[0m\u001b[0;34m\u001b[0m\u001b[0m\n\u001b[0m\u001b[1;32m    323\u001b[0m         \u001b[0mcov_0t\u001b[0m \u001b[0;34m=\u001b[0m \u001b[0;34m(\u001b[0m\u001b[0;36m1\u001b[0m\u001b[0;34m/\u001b[0m\u001b[0mx\u001b[0m\u001b[0;34m.\u001b[0m\u001b[0mshape\u001b[0m\u001b[0;34m[\u001b[0m\u001b[0;36m0\u001b[0m\u001b[0;34m]\u001b[0m\u001b[0;34m)\u001b[0m \u001b[0;34m*\u001b[0m \u001b[0mpsi_x\u001b[0m \u001b[0;34m@\u001b[0m \u001b[0mpsi_y\u001b[0m\u001b[0;34m.\u001b[0m\u001b[0mT\u001b[0m\u001b[0;34m\u001b[0m\u001b[0;34m\u001b[0m\u001b[0m\n\u001b[1;32m    324\u001b[0m \u001b[0;34m\u001b[0m\u001b[0m\n",
      "\u001b[0;31mMemoryError\u001b[0m: Unable to allocate 2.85 PiB for an array with shape (20030010, 20030010) and data type float64"
     ]
    }
   ],
   "source": [
    "edmd_estimator = EDMD(basis, n_eigs=2)\n",
    "edmd_model = edmd_estimator.fit((xtrain, ytrain)).fetch_model()"
   ]
  },
  {
   "cell_type": "code",
   "execution_count": null,
   "metadata": {},
   "outputs": [],
   "source": [
    "plt.plot(np.real(edmd_model.eigenvalues), 'x')\n",
    "plt.title('Dominant eigenvalues')"
   ]
  },
  {
   "cell_type": "markdown",
   "metadata": {},
   "source": [
    "# test"
   ]
  },
  {
   "cell_type": "code",
   "execution_count": null,
   "metadata": {},
   "outputs": [],
   "source": [
    "from deeptime.data import triple_well_2d\n",
    "system = triple_well_2d()\n",
    "\n",
    "x = np.linspace(-2, 2, num=100)\n",
    "y = np.linspace(-1, 2, num=100)\n",
    "XX, YY = np.meshgrid(x, y)\n",
    "coords = np.dstack((XX, YY)).reshape(-1, 2)\n",
    "V = system.potential(coords).reshape(XX.shape)\n",
    "\n",
    "plt.contourf(x, y, V, levels=np.linspace(-4.5, 4.5, 20), cmap='coolwarm');"
   ]
  },
  {
   "cell_type": "code",
   "execution_count": null,
   "metadata": {},
   "outputs": [],
   "source": [
    "traj = system.trajectory(x0=[[-1, 0]], length=200, seed=66)\n",
    "\n",
    "plt.contourf(x, y, V, levels=np.linspace(-4.5, 4.5, 20), cmap='coolwarm')\n",
    "plt.plot(*traj.T, c='black', lw=.5)\n",
    "\n",
    "N = 25000\n",
    "state = np.random.RandomState(seed=42)\n",
    "X = np.stack([state.uniform(-2, 2, size=(N,)), state.uniform(-1, 2, size=(N,))]).T\n",
    "Y = system(X, n_jobs=8)"
   ]
  },
  {
   "cell_type": "code",
   "execution_count": 6,
   "metadata": {},
   "outputs": [],
   "source": [
    "from deeptime.basis import Monomials\n",
    "\n",
    "basis = Monomials(p=10, d=2)"
   ]
  },
  {
   "cell_type": "code",
   "execution_count": 7,
   "metadata": {},
   "outputs": [],
   "source": [
    "from deeptime.decomposition import EDMD\n",
    "\n",
    "edmd_estimator = EDMD(basis, n_eigs=8)\n",
    "edmd_model = edmd_estimator.fit((X, Y)).fetch_model()"
   ]
  },
  {
   "cell_type": "code",
   "execution_count": null,
   "metadata": {},
   "outputs": [],
   "source": [
    "plt.plot(np.real(edmd_model.eigenvalues), 'x')\n",
    "plt.title('Dominant eigenvalues')"
   ]
  },
  {
   "cell_type": "code",
   "execution_count": 14,
   "metadata": {},
   "outputs": [],
   "source": [
    "N = 25000\n",
    "state = np.random.RandomState(seed=30)\n",
    "X1 = np.stack([state.uniform(-2, 2, size=(N,)), state.uniform(-1, 2, size=(N,))]).T\n",
    "Y1 = system(X1, n_jobs=8)\n",
    "edmd_estimator1 = EDMD(basis, n_eigs=8)\n",
    "edmd_model1 = edmd_estimator1.fit((X1, Y1)).fetch_model()"
   ]
  },
  {
   "cell_type": "code",
   "execution_count": null,
   "metadata": {},
   "outputs": [],
   "source": [
    "plt.plot(np.real(edmd_model.eigenvalues), 'x')\n",
    "plt.title('Dominant eigenvalues')"
   ]
  },
  {
   "cell_type": "code",
   "execution_count": 13,
   "metadata": {},
   "outputs": [],
   "source": [
    "phi = np.real(edmd_model.transform(X1, propagate=False))\n",
    "\n",
    "# normalize\n",
    "for i in range(len(edmd_model.eigenvalues)):\n",
    "    phi[:, i] = phi[:, i] / np.max(np.abs(phi[:, i]))"
   ]
  },
  {
   "cell_type": "code",
   "execution_count": null,
   "metadata": {},
   "outputs": [],
   "source": [
    "fig = plt.figure(figsize=(8, 8))\n",
    "gs = fig.add_gridspec(ncols=2, nrows=2)\n",
    "\n",
    "ax = fig.add_subplot(gs[0, 0])\n",
    "ax.scatter(*X.T, c=phi[:, 0], cmap='coolwarm')\n",
    "ax.set_title('1st eigenfunction')\n",
    "\n",
    "ax = fig.add_subplot(gs[0, 1])\n",
    "ax.scatter(*X.T, c=phi[:, 1], cmap='coolwarm')\n",
    "ax.set_title('2nd eigenfunction')\n",
    "\n",
    "ax = fig.add_subplot(gs[1, 0])\n",
    "ax.scatter(*X.T, c=phi[:, 2], cmap='coolwarm')\n",
    "ax.set_title('3rd eigenfunction')\n",
    "\n",
    "ax = fig.add_subplot(gs[1, 1])\n",
    "ax.scatter(*X.T, c=phi[:, 3], cmap='coolwarm')\n",
    "ax.set_title('4th eigenfunction')"
   ]
  }
 ],
 "metadata": {
  "kernelspec": {
   "display_name": "KWQ",
   "language": "python",
   "name": "python3"
  },
  "language_info": {
   "codemirror_mode": {
    "name": "ipython",
    "version": 3
   },
   "file_extension": ".py",
   "mimetype": "text/x-python",
   "name": "python",
   "nbconvert_exporter": "python",
   "pygments_lexer": "ipython3",
   "version": "3.8.20"
  }
 },
 "nbformat": 4,
 "nbformat_minor": 2
}
